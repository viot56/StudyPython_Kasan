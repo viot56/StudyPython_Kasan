{
 "cells": [
  {
   "cell_type": "markdown",
   "metadata": {},
   "source": [
    "## 자료형학습\n",
    " 1.None형 - 무엇인지 알 수 없음"
   ]
  },
  {
   "cell_type": "code",
   "execution_count": 1,
   "metadata": {},
   "outputs": [
    {
     "name": "stdout",
     "output_type": "stream",
     "text": [
      "False\n"
     ]
    }
   ],
   "source": [
    "# None형 (특수형태)\n",
    "print(0 == None)"
   ]
  },
  {
   "cell_type": "markdown",
   "metadata": {},
   "source": [
    "2. 숫자형 _ 가장 많이 쓰이는 자료형"
   ]
  },
  {
   "cell_type": "code",
   "execution_count": 16,
   "metadata": {},
   "outputs": [
    {
     "name": "stdout",
     "output_type": "stream",
     "text": [
      "10\n",
      "3.16\n",
      "15\n",
      "42\n",
      "255\n"
     ]
    }
   ],
   "source": [
    "# 숫자형\n",
    "int_val = 10\n",
    "print(int_val)\n",
    "float_val = 3.16\n",
    "print(float_val)\n",
    "\n",
    "bin_val = 0b1111    # 2진수\n",
    "print(bin_val)\n",
    "oct_val = 0o52      # 8진수\n",
    "print(oct_val)\n",
    "hex_val = 0xff      #16진수\n",
    "print(hex_val)\n"
   ]
  },
  {
   "cell_type": "code",
   "execution_count": 24,
   "metadata": {},
   "outputs": [
    {
     "name": "stdout",
     "output_type": "stream",
     "text": [
      "<class 'int'>\n",
      "<class 'float'>\n",
      "<class 'int'>\n"
     ]
    }
   ],
   "source": [
    "# 자료형 확인 - 파이썬 = 객체지향이라서 클래스타입임\n",
    "print(type(int_val))\n",
    "print(type(float_val))\n",
    "print(type(hex_val))"
   ]
  },
  {
   "cell_type": "markdown",
   "metadata": {},
   "source": [
    "3. 문자열형 - 출력을 위해 사용"
   ]
  },
  {
   "cell_type": "code",
   "execution_count": 32,
   "metadata": {},
   "outputs": [
    {
     "name": "stdout",
     "output_type": "stream",
     "text": [
      "Life is short. \n",
      "You need Python\n",
      "Hello\n",
      "My name id CSH.\n",
      "Bye~ \n"
     ]
    }
   ],
   "source": [
    "# 문자열형\n",
    "bruce_eckel =  'Life is short. \\nYou need Python'\n",
    "print(bruce_eckel)\n",
    "greeting = \"Hello, Python\"\n",
    "greeting\n",
    "\n",
    "multi_str_val = '''Hello\n",
    "My name id CSH.\n",
    "Bye~ '''\n",
    "print(multi_str_val)"
   ]
  },
  {
   "cell_type": "markdown",
   "metadata": {},
   "source": [
    "4. 불린형(Boolean)"
   ]
  },
  {
   "cell_type": "code",
   "execution_count": 36,
   "metadata": {},
   "outputs": [
    {
     "name": "stdout",
     "output_type": "stream",
     "text": [
      "False\n",
      "True\n",
      "<class 'bool'>\n"
     ]
    }
   ],
   "source": [
    "# 불린\n",
    "print(1 == 1*2)\n",
    "a = 10\n",
    "print(a == 2 * 5)\n",
    "print(type(False))"
   ]
  },
  {
   "cell_type": "code",
   "execution_count": 41,
   "metadata": {},
   "outputs": [
    {
     "name": "stdout",
     "output_type": "stream",
     "text": [
      "True\n",
      "True\n",
      "True\n",
      "False\n"
     ]
    }
   ],
   "source": [
    "# 불린 계속\n",
    "bl_true = True\n",
    "bl_false = False\n",
    "print(bl_true is True)\n",
    "print(bl_true == True)\n",
    "print(bool(1)) # 0 이외의 값은 전부 True\n",
    "print(bool(0)) # 0 은 False"
   ]
  },
  {
   "cell_type": "markdown",
   "metadata": {},
   "source": [
    "5. 복합형 - 리스트"
   ]
  },
  {
   "cell_type": "code",
   "execution_count": 49,
   "metadata": {},
   "outputs": [
    {
     "name": "stdout",
     "output_type": "stream",
     "text": [
      "[1, 2, 3, 4, 5, 6, 7, 8, 9]\n",
      "[1, 2, 3, 4, 5, 6, 7, 8, 9, 10, 11, 12, 13, 14, 15, 16, 17, 18, 19, 20, 21, 22, 23, 24, 25, 26, 27, 28, 29, 30, 31, 32, 33, 34, 35, 36, 37, 38, 39, 40, 41, 42, 43, 44, 45, 46, 47, 48, 49, 50, 51, 52, 53, 54, 55, 56, 57, 58, 59, 60, 61, 62, 63, 64, 65, 66, 67, 68, 69, 70, 71, 72, 73, 74, 75, 76, 77, 78, 79, 80, 81, 82, 83, 84, 85, 86, 87, 88, 89, 90, 91, 92, 93, 94, 95, 96, 97, 98, 99, 100]\n",
      "<class 'list'>\n"
     ]
    }
   ],
   "source": [
    "# 리스트\n",
    "# 알고리즘은 정렬(오름차순, 내림차순 등등) 자료구조들이 알고리즘을 가지고 있음\n",
    "# 네이버에서 쇼핑 들어가면 정렬을 할 수 있음 -> 이게 알고리즘임 개발을 하기 시작했으니 우리가 정렬 즉 알고리즘을 제공해줘야함\n",
    "b = [1,2,3,4,5,6,7,8,9]\n",
    "print(b)\n",
    "c = [i for i in range(1,101)]\n",
    "print(c)\n",
    "\n",
    "print(type(c))\n"
   ]
  },
  {
   "cell_type": "markdown",
   "metadata": {},
   "source": [
    "6. 복합형 - 튜플, 딕셔너리, 집합 (나증에...)"
   ]
  },
  {
   "cell_type": "code",
   "execution_count": null,
   "metadata": {},
   "outputs": [],
   "source": []
  },
  {
   "cell_type": "markdown",
   "metadata": {},
   "source": [
    "7.\n"
   ]
  },
  {
   "cell_type": "code",
   "execution_count": null,
   "metadata": {},
   "outputs": [],
   "source": [
    "# * = 아스트릭"
   ]
  }
 ],
 "metadata": {
  "interpreter": {
   "hash": "26de051ba29f2982a8de78e945f0abaf191376122a1563185a90213a26c5da77"
  },
  "kernelspec": {
   "display_name": "Python 3.10.4 64-bit",
   "language": "python",
   "name": "python3"
  },
  "language_info": {
   "codemirror_mode": {
    "name": "ipython",
    "version": 3
   },
   "file_extension": ".py",
   "mimetype": "text/x-python",
   "name": "python",
   "nbconvert_exporter": "python",
   "pygments_lexer": "ipython3",
   "version": "3.10.4"
  },
  "orig_nbformat": 4
 },
 "nbformat": 4,
 "nbformat_minor": 2
}
