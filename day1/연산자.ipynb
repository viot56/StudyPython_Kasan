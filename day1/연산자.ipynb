{
 "cells": [
  {
   "cell_type": "markdown",
   "metadata": {},
   "source": [
    "## 연산자 학습\n",
    "1. 숫자 연산"
   ]
  },
  {
   "cell_type": "code",
   "execution_count": 159,
   "metadata": {},
   "outputs": [
    {
     "name": "stdout",
     "output_type": "stream",
     "text": [
      "15\n",
      "7\n",
      "44\n",
      "2.75\n",
      "2\n",
      "3\n"
     ]
    }
   ],
   "source": [
    "# 연산자\n",
    "a = 11 ; b = 4\n",
    "print(a + b)\n",
    "print(a - b)\n",
    "print(a * b)\n",
    "print(a / b) # 나눗셈할때는 더 알고 있어야함 - 소수점 같은거 - float \n",
    "print(a // b) # 나눗셈의 정수만, 소수점은 버림 - int\n",
    "print(a % b) # 나눗셈 후 나머지\n",
    "\n",
    "\n",
    "\n",
    "\n",
    "\n"
   ]
  },
  {
   "cell_type": "code",
   "execution_count": 160,
   "metadata": {},
   "outputs": [
    {
     "name": "stdout",
     "output_type": "stream",
     "text": [
      "14641\n",
      "14641\n"
     ]
    }
   ],
   "source": [
    "print(a ** b) # 11의 4승\n",
    "print(11 * 11 * 11 * 11)\n"
   ]
  },
  {
   "cell_type": "code",
   "execution_count": 161,
   "metadata": {},
   "outputs": [],
   "source": [
    "# 경고 예외발생!\n",
    "c = 0\n",
    "# print(a / c) # 숫자를 0으로 나눌 수 없음, 실행 중에 난 에러임 = 예외(허용되지 않음) # ErrorDivision 예외발생\n",
    "\n",
    "# prin t(a / c) # 오류, 에러, 오타"
   ]
  },
  {
   "cell_type": "markdown",
   "metadata": {},
   "source": [
    "2. 문자열 연산"
   ]
  },
  {
   "cell_type": "code",
   "execution_count": 162,
   "metadata": {},
   "outputs": [
    {
     "name": "stdout",
     "output_type": "stream",
     "text": [
      "Hello, World\n",
      "WorldWorldWorldWorldWorld\n"
     ]
    }
   ],
   "source": [
    "# 문자열 연산\n",
    "first = 'Hello,'\n",
    "second = 'World'\n",
    "print(first + ' ' + second)\n",
    "\n",
    "\n",
    "# print(second + 5) # 문자만 결합할 수 있음(숫자가 들어가면 안됨)\n",
    "print(second * 5) # 곱하기는 가능\n",
    "# print(first - second)\n",
    "# print(first / 2)"
   ]
  },
  {
   "cell_type": "code",
   "execution_count": 163,
   "metadata": {},
   "outputs": [
    {
     "name": "stdout",
     "output_type": "stream",
     "text": [
      "6\n",
      "H\n",
      "e\n",
      "l\n",
      "l\n",
      "o\n",
      ",\n"
     ]
    }
   ],
   "source": [
    "## 문자열\n",
    "print(len(first))\n",
    "print(first[0])\n",
    "print(first[1])\n",
    "print(first[2])\n",
    "print(first[3])\n",
    "print(first[4])\n",
    "print(first[5])\n",
    "# print(first[6]) index Error 예외발생\n",
    "\n"
   ]
  },
  {
   "cell_type": "code",
   "execution_count": 164,
   "metadata": {},
   "outputs": [
    {
     "name": "stdout",
     "output_type": "stream",
     "text": [
      "H\n"
     ]
    }
   ],
   "source": [
    "print(first[-6])"
   ]
  },
  {
   "cell_type": "code",
   "execution_count": 165,
   "metadata": {},
   "outputs": [
    {
     "name": "stdout",
     "output_type": "stream",
     "text": [
      "['2022-05-23', '17:33:45']\n",
      "2022-05-23\n",
      "17:33:45\n",
      "2022\n",
      "05\n",
      "23\n",
      "17\n",
      "33\n",
      "45\n",
      "45\n",
      "33\n"
     ]
    }
   ],
   "source": [
    "# 현재 일시\n",
    "current = '2022-05-23 17:33:45'\n",
    "curr_data =  current.split(' ') # 문자열 자르기\n",
    "print(curr_data) # 배열, 리스트\n",
    "print(curr_data[0])\n",
    "print(curr_data[1])\n",
    "\n",
    "print(current[0:4])\n",
    "print(current[5:7])\n",
    "print(current[8:10])\n",
    "\n",
    "print(current[11:13])\n",
    "print(current[14:16])\n",
    "print(current[17:19])\n",
    "\n",
    "\n",
    "print(current[-2:]) # 반대로도 가능\n",
    "print(current[-5:-3])\n",
    "\n",
    "\n",
    "\n"
   ]
  },
  {
   "cell_type": "code",
   "execution_count": 166,
   "metadata": {},
   "outputs": [
    {
     "name": "stdout",
     "output_type": "stream",
     "text": [
      "[1, 2, 3, 4, 5]\n",
      "1\n",
      "[7, 'H', 3, 4, 5]\n"
     ]
    }
   ],
   "source": [
    "# 일반 리스트 값 변경\n",
    "q = [1,2,3,4,5] # q 라는 리스트\n",
    "print(q)\n",
    "print(q[0]) # q의 인덱스 값\n",
    "q[0] = 7 # 값을 변경할 수 있음\n",
    "q[1] = 'H'\n",
    "print(q)\n"
   ]
  },
  {
   "cell_type": "code",
   "execution_count": 167,
   "metadata": {},
   "outputs": [
    {
     "name": "stdout",
     "output_type": "stream",
     "text": [
      "hello!\n",
      "h\n",
      "hello!\n",
      "Hello!\n"
     ]
    }
   ],
   "source": [
    "# 문자열 (문자의 배열) 값 변경\n",
    "greeting = 'hello!' # 문자열은 완벽한 리스트 상태가 아니여서 변경할 수 없음\n",
    "print(greeting)\n",
    "print(greeting[0])\n",
    "# greeting[0] = 'H' # TypeError 예외발생\n",
    "print(greeting)\n",
    "\n",
    "new_greeting = 'H' + greeting[1:] ##  대괄호 무슨 뜻인지 모르겠음 # 문자열을 변경하려면\n",
    "print(new_greeting)"
   ]
  },
  {
   "cell_type": "markdown",
   "metadata": {},
   "source": [
    "3. 문자열 포맷팅 / 연산자"
   ]
  },
  {
   "cell_type": "code",
   "execution_count": 168,
   "metadata": {},
   "outputs": [
    {
     "name": "stdout",
     "output_type": "stream",
     "text": [
      "I'm happy word1 word2\n",
      "제 이름은 최심형입니다. 서울에 살아요\n"
     ]
    }
   ],
   "source": [
    "# 문자열 포맷팅\n",
    "\"I'm so happy for you\"\n",
    "'I\\'m so happy for you'\n",
    "\n",
    "# 포맷팅 구식\n",
    "word1 = 'for'\n",
    "word2 = 'me'\n",
    "print('I\\'m happy {0} {1}'.format('word1','word2')) # {0}이라는 자리의 값을 format 안의 값으로 변경함\n",
    "\n",
    "\n",
    "# 포맷팅 신식\n",
    "name = '최심형'\n",
    "region = '서울'\n",
    "print(f'제 이름은 {name}입니다. {region}에 살아요') # f를 안쓰면 포맷팅이 안됨"
   ]
  },
  {
   "cell_type": "code",
   "execution_count": 169,
   "metadata": {},
   "outputs": [
    {
     "name": "stdout",
     "output_type": "stream",
     "text": [
      "3.141592653589793\n",
      "3.14\n",
      "3.1416\n"
     ]
    }
   ],
   "source": [
    "import math\n",
    "print(math.pi)\n",
    "print(f'{math.pi:0.2f}') # 위치: 소수점 몇째짜리에서 f(반올림)\n",
    "print('{0:0.4f}'.format(math.pi)) #  위랑 비교하면 구식이 긺"
   ]
  },
  {
   "cell_type": "code",
   "execution_count": 170,
   "metadata": {},
   "outputs": [
    {
     "name": "stdout",
     "output_type": "stream",
     "text": [
      "서울특별시 금천구 가산동\n",
      "['서울특별시', '금천구', '가산동']\n",
      "['DEST07', '2022-05-24', '10:07:17', 'DESC11', 'NONE']\n"
     ]
    }
   ],
   "source": [
    "# 문자열 자르기\n",
    "orign_str = '서울특별시 금천구 가산동'\n",
    "print(orign_str)\n",
    "print(orign_str.split())\n",
    "\n",
    "mes_str = 'DEST07|2022-05-24|10:07:17|DESC11|NONE'\n",
    "print(mes_str.split('|'))"
   ]
  },
  {
   "cell_type": "code",
   "execution_count": 171,
   "metadata": {},
   "outputs": [
    {
     "name": "stdout",
     "output_type": "stream",
     "text": [
      "Hugi MG Sung\n"
     ]
    }
   ],
   "source": [
    "# 문자열 치환\n",
    "full_name = 'Hugi MG Sung'\n",
    "rep_name = full_name.replace('Hugo MG', 'Ashly')\n",
    "print(rep_name)"
   ]
  },
  {
   "cell_type": "code",
   "execution_count": 172,
   "metadata": {},
   "outputs": [
    {
     "name": "stdout",
     "output_type": "stream",
     "text": [
      "['Hey', ' Guys~']\n",
      "['Hey', 'Guys']\n"
     ]
    }
   ],
   "source": [
    "# 문자열 공백 제거\n",
    "test = 'Hey, Guys~'\n",
    "sp_test = test.split(',') # 특정단어 잘라줌\n",
    "print(sp_test)\n",
    "sp_test[1] = sp_test[1].replace('~', '').strip() # 함수를 여러번 쓸 수 있음\n",
    "# 문자열에서 특정단어를 바꾸는 replace() \n",
    "# 문자열의 공백을 제거해주는 lstrip(), rstrip(), strip()\n",
    "print(sp_test)\n"
   ]
  },
  {
   "cell_type": "code",
   "execution_count": 173,
   "metadata": {},
   "outputs": [
    {
     "name": "stdout",
     "output_type": "stream",
     "text": [
      "Hello~     \n",
      "     Hello~\n",
      "Hello~\n"
     ]
    }
   ],
   "source": [
    "print('     Hello~     '.lstrip())   #왼쪽에 있는 공백 제거\n",
    "print('     Hello~     '.rstrip())   #오른쪽에 있는 공백 제거\n",
    "print('     Hello~     '.strip())   #양쪽에 있는 공백 제거\n",
    "\n",
    "#단, 글자들 사이에 존재하는 공백은 제거하지 못한다."
   ]
  },
  {
   "cell_type": "code",
   "execution_count": 174,
   "metadata": {},
   "outputs": [
    {
     "name": "stdout",
     "output_type": "stream",
     "text": [
      "5\n"
     ]
    }
   ],
   "source": [
    "print(test.index('G'))\n",
    "# print(test.index('g')) # ValueError 예외발생, 없는 단어 찾으면"
   ]
  },
  {
   "cell_type": "code",
   "execution_count": 175,
   "metadata": {},
   "outputs": [
    {
     "name": "stdout",
     "output_type": "stream",
     "text": [
      "5\n",
      "-1\n"
     ]
    }
   ],
   "source": [
    "print(test.find('G'))\n",
    "print(test.find('g')) # -1 나오면  값 없다는거를 알려줌, index보다는 find가 좋음"
   ]
  },
  {
   "cell_type": "code",
   "execution_count": 176,
   "metadata": {},
   "outputs": [
    {
     "name": "stdout",
     "output_type": "stream",
     "text": [
      "0\n"
     ]
    }
   ],
   "source": [
    "print('Hello~'.count('1'))"
   ]
  },
  {
   "cell_type": "code",
   "execution_count": 177,
   "metadata": {},
   "outputs": [
    {
     "name": "stdout",
     "output_type": "stream",
     "text": [
      "HUGI MG SUNG\n",
      "hugi mg sung\n"
     ]
    }
   ],
   "source": [
    "print(full_name.upper()) # 모든 단어를 대문자\n",
    "print(full_name.lower()) # 모든 단어를 소문자"
   ]
  },
  {
   "cell_type": "markdown",
   "metadata": {},
   "source": [
    "4. 리스트 연산 (Alt + Enter 하면 새로운 셀 만듦)"
   ]
  },
  {
   "cell_type": "code",
   "execution_count": 178,
   "metadata": {},
   "outputs": [
    {
     "name": "stdout",
     "output_type": "stream",
     "text": [
      "5\n",
      "5\n",
      "6\n",
      "[1, 2, '3', 4, 5]\n",
      "3333\n",
      "5\n"
     ]
    }
   ],
   "source": [
    "# 리스트 연산\n",
    "arr = [1,2,3,4,5]\n",
    "print(len(arr))\n",
    "print(arr[4]) # 4번째 자리에 있는 값\n",
    "\n",
    "print(arr[0] + arr[4])\n",
    "arr[2] = '3' # 문자열이 됨\n",
    "print(arr)\n",
    "# print(arr[2] + arr[3])  # 문자열이랑 숫자랑 안 더해짐\n",
    "print(arr[2] * arr[3]) # 곱하기는 문자열 숫자 가능\n",
    "\n",
    "print(arr[-1])"
   ]
  },
  {
   "cell_type": "code",
   "execution_count": 179,
   "metadata": {},
   "outputs": [
    {
     "name": "stdout",
     "output_type": "stream",
     "text": [
      "[1, 2, ['Hi', 'My', 'Friends']]\n",
      "['Hi', 'My', 'Friends']\n",
      "Friends\n",
      "F\n"
     ]
    }
   ],
   "source": [
    "# 2차열 배열\n",
    "arr2 = [1,2, ['Hi', 'My', 'Friends']]\n",
    "print(arr2)\n",
    "print(arr2[2])\n",
    "print(arr2[2][2]) # 2번째 리스트에서 2번째 값을 가져옴\n",
    "print(arr2[2][2][0])"
   ]
  },
  {
   "cell_type": "code",
   "execution_count": 180,
   "metadata": {},
   "outputs": [
    {
     "name": "stdout",
     "output_type": "stream",
     "text": [
      "[1, 2]\n",
      "[2, ['Hi', 'My', 'Friends']]\n"
     ]
    }
   ],
   "source": [
    "print(arr2[0:2])\n",
    "print(arr2[-2:]) # 이거 뭐지?? 값이 다름"
   ]
  },
  {
   "cell_type": "code",
   "execution_count": 181,
   "metadata": {},
   "outputs": [
    {
     "name": "stdout",
     "output_type": "stream",
     "text": [
      "[1, 2, ['Hi', 'My', 'Friends']]\n",
      "[1, 2]\n"
     ]
    }
   ],
   "source": [
    "print(arr2)\n",
    "del(arr2[2]) # 리스트 지우는 함수\n",
    "print(arr2)"
   ]
  },
  {
   "cell_type": "code",
   "execution_count": 182,
   "metadata": {},
   "outputs": [
    {
     "name": "stdout",
     "output_type": "stream",
     "text": [
      "[1, 2, '3', 4, 5]\n"
     ]
    }
   ],
   "source": [
    "# 리스트 변수 추가\n",
    "print(arr)\n",
    "arr.append(9)"
   ]
  },
  {
   "cell_type": "code",
   "execution_count": 183,
   "metadata": {},
   "outputs": [
    {
     "name": "stdout",
     "output_type": "stream",
     "text": [
      "[1, 2, '3', 4, 5, 9]\n"
     ]
    }
   ],
   "source": [
    "print(arr)"
   ]
  },
  {
   "cell_type": "code",
   "execution_count": 184,
   "metadata": {},
   "outputs": [
    {
     "name": "stdout",
     "output_type": "stream",
     "text": [
      "[1, 2, '3', 25, 4, 5, 9]\n"
     ]
    }
   ],
   "source": [
    "#insert()\n",
    "arr.insert(3, 25)\n",
    "print(arr)"
   ]
  },
  {
   "cell_type": "code",
   "execution_count": 185,
   "metadata": {},
   "outputs": [
    {
     "name": "stdout",
     "output_type": "stream",
     "text": [
      "[1, 2, '3', 25, 4, 5, 9, 7, 'H', 3, 4, 5]\n"
     ]
    }
   ],
   "source": [
    "arr.extend(q)\n",
    "print(arr)"
   ]
  },
  {
   "cell_type": "code",
   "execution_count": 186,
   "metadata": {},
   "outputs": [
    {
     "name": "stdout",
     "output_type": "stream",
     "text": [
      "[8, 2, 9, 3, 4, 5, 1, 10]\n",
      "[1, 2, 3, 4, 5, 8, 9, 10]\n",
      "[10, 9, 8, 5, 4, 3, 2, 1]\n"
     ]
    }
   ],
   "source": [
    "# 정렬\n",
    "list1 = [8,2,9,3,4,5,1,10]\n",
    "print(list1)\n",
    "\n",
    "list1.sort() # 오름차순 정렬\n",
    "print(list1)\n",
    "list1.reverse() # 내림차순 정렬\n",
    "print(list1)"
   ]
  },
  {
   "cell_type": "code",
   "execution_count": 187,
   "metadata": {},
   "outputs": [
    {
     "name": "stdout",
     "output_type": "stream",
     "text": [
      "[10, 9, 8, 5, 4, 3, 2, 1]\n",
      "1\n",
      "[10, 9, 8, 5, 4, 3, 2]\n"
     ]
    }
   ],
   "source": [
    "# 스택형태 함수\n",
    "print(list1)\n",
    "print(list1.pop()) # 전체 리스트에서 마지막 값을 빼버림\n",
    "print(list1)"
   ]
  },
  {
   "cell_type": "markdown",
   "metadata": {},
   "source": [
    "5. 튜플, 튜플 연산"
   ]
  },
  {
   "cell_type": "code",
   "execution_count": 188,
   "metadata": {},
   "outputs": [
    {
     "name": "stdout",
     "output_type": "stream",
     "text": [
      "(1, 2, 3, 4, 5)\n"
     ]
    }
   ],
   "source": [
    "# 리스트랑 똑같은데 만드는 형식이 다름\n",
    "tup1 = (1,2,3,4,5) # 소괄호\n",
    "print(tup1)"
   ]
  },
  {
   "cell_type": "code",
   "execution_count": 189,
   "metadata": {},
   "outputs": [
    {
     "name": "stdout",
     "output_type": "stream",
     "text": [
      "5\n"
     ]
    }
   ],
   "source": [
    "print(tup1[4])"
   ]
  },
  {
   "cell_type": "code",
   "execution_count": 190,
   "metadata": {},
   "outputs": [],
   "source": [
    "# tup1[0] = 7 # 튜플은 리스트와 달리 값을 추가, 제거, 할당이 안됨(변경x)"
   ]
  },
  {
   "cell_type": "markdown",
   "metadata": {},
   "source": [
    "6. 딕셔너리 연산 (key와 value의 쌍)"
   ]
  },
  {
   "cell_type": "code",
   "execution_count": 191,
   "metadata": {},
   "outputs": [
    {
     "name": "stdout",
     "output_type": "stream",
     "text": [
      "{1: 'a'}\n"
     ]
    }
   ],
   "source": [
    "dic_a = {1 :'a'} # 중괄호를 씀\n",
    "print(dic_a)"
   ]
  },
  {
   "cell_type": "code",
   "execution_count": 192,
   "metadata": {},
   "outputs": [
    {
     "name": "stdout",
     "output_type": "stream",
     "text": [
      "{1: 'a', 2: 'b'}\n"
     ]
    }
   ],
   "source": [
    "dic_a[2] = 'b'\n",
    "print(dic_a)"
   ]
  },
  {
   "cell_type": "code",
   "execution_count": 193,
   "metadata": {},
   "outputs": [
    {
     "name": "stdout",
     "output_type": "stream",
     "text": [
      "{1: 'a', 2: 'b', 'name': 'Hugo'}\n"
     ]
    }
   ],
   "source": [
    "dic_a['name'] = 'Hugo'\n",
    "print(dic_a)"
   ]
  },
  {
   "cell_type": "code",
   "execution_count": 195,
   "metadata": {},
   "outputs": [
    {
     "name": "stdout",
     "output_type": "stream",
     "text": [
      "{'name': 'Peter parker', 'armer': 'Web shooter', 'age': 20}\n"
     ]
    }
   ],
   "source": [
    "spider_man = {'name':'Peter parker', 'armer':'Web shooter', 'age':20}\n",
    "print(spider_man)"
   ]
  },
  {
   "cell_type": "code",
   "execution_count": 196,
   "metadata": {},
   "outputs": [
    {
     "name": "stdout",
     "output_type": "stream",
     "text": [
      "Peter parker\n",
      "age in spider_man\n"
     ]
    }
   ],
   "source": [
    "print(spider_man['name'])\n",
    "print('age in spider_man')"
   ]
  }
 ],
 "metadata": {
  "interpreter": {
   "hash": "26de051ba29f2982a8de78e945f0abaf191376122a1563185a90213a26c5da77"
  },
  "kernelspec": {
   "display_name": "Python 3.10.4 64-bit",
   "language": "python",
   "name": "python3"
  },
  "language_info": {
   "codemirror_mode": {
    "name": "ipython",
    "version": 3
   },
   "file_extension": ".py",
   "mimetype": "text/x-python",
   "name": "python",
   "nbconvert_exporter": "python",
   "pygments_lexer": "ipython3",
   "version": "3.10.4"
  },
  "orig_nbformat": 4
 },
 "nbformat": 4,
 "nbformat_minor": 2
}
