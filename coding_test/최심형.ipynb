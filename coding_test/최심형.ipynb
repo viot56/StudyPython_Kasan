{
 "cells": [
  {
   "cell_type": "markdown",
   "metadata": {},
   "source": [
    "## 1번 문제\n",
    "반지름 값을 입력받아 원의 넓이를 구하여 출력하는 프로그램을 구현하세요. 파이는 3.141592 입니다."
   ]
  },
  {
   "cell_type": "code",
   "execution_count": 2,
   "metadata": {},
   "outputs": [
    {
     "name": "stdout",
     "output_type": "stream",
     "text": [
      "반지름 20.0인 원의 넓이는 1256.6370614359173입니다.\n"
     ]
    }
   ],
   "source": [
    "import math\n",
    "\n",
    "radius = float(input('반지름을 입력하세요'))\n",
    "\n",
    "res = radius * radius * math.pi\n",
    "\n",
    "print(f'반지름 {radius}인 원의 넓이는 {res}입니다.')"
   ]
  },
  {
   "cell_type": "markdown",
   "metadata": {},
   "source": [
    "## 2번 문제\n",
    "태양계는 수성, 금성, 지구, 화성, 목성, 토성, 천왕성, 혜왕성으로 구성됩니다. 영어이름은 Mercury, Venus, Earth, Mars, Jupiter,  Saturn, Uranus, Neptune 입니다.  행성의 한글이름을 입력하면 영어행성명이 출력되는 프로그램을 구현하세요."
   ]
  },
  {
   "cell_type": "code",
   "execution_count": 6,
   "metadata": {},
   "outputs": [
    {
     "name": "stdout",
     "output_type": "stream",
     "text": [
      "Earth\n"
     ]
    }
   ],
   "source": [
    "solar_sys = {'수성':'Mercury', '금성':'Venus', '지구':'Earth', '화성':'Mars', \n",
    "            '목성':'Jupiter',  '토성':'Saturn', '천왕성':'Uranus', '혜왕성':'Neptune'}\n",
    "kor_name = input('한글 행성명을 입력하세요>')\n",
    "\n",
    "solar_sys[kor_name]\n",
    "print(solar_sys[kor_name])"
   ]
  },
  {
   "cell_type": "code",
   "execution_count": 8,
   "metadata": {},
   "outputs": [
    {
     "name": "stdout",
     "output_type": "stream",
     "text": [
      "지구의 영어 행성명은 Earth 입니다\n",
      "화성의 영어 행성명은 Mars 입니다\n",
      "수성의 영어 행성명은 Mercury 입니다\n"
     ]
    },
    {
     "ename": "KeyError",
     "evalue": "'.'",
     "output_type": "error",
     "traceback": [
      "\u001b[1;31m---------------------------------------------------------------------------\u001b[0m",
      "\u001b[1;31mKeyError\u001b[0m                                  Traceback (most recent call last)",
      "\u001b[1;32mc:\\Repository\\StudyPython_Kasan\\coding_test\\최심형.ipynb Cell 5'\u001b[0m in \u001b[0;36m<cell line: 4>\u001b[1;34m()\u001b[0m\n\u001b[0;32m      <a href='vscode-notebook-cell:/c%3A/Repository/StudyPython_Kasan/coding_test/%EC%B5%9C%EC%8B%AC%ED%98%95.ipynb#ch0000012?line=5'>6</a>\u001b[0m \u001b[39mif\u001b[39;00m kor_name \u001b[39m==\u001b[39m \u001b[39m'\u001b[39m\u001b[39mq\u001b[39m\u001b[39m'\u001b[39m:\u001b[39mbreak\u001b[39;00m\n\u001b[0;32m      <a href='vscode-notebook-cell:/c%3A/Repository/StudyPython_Kasan/coding_test/%EC%B5%9C%EC%8B%AC%ED%98%95.ipynb#ch0000012?line=6'>7</a>\u001b[0m \u001b[39melse\u001b[39;00m:\n\u001b[1;32m----> <a href='vscode-notebook-cell:/c%3A/Repository/StudyPython_Kasan/coding_test/%EC%B5%9C%EC%8B%AC%ED%98%95.ipynb#ch0000012?line=7'>8</a>\u001b[0m     \u001b[39mprint\u001b[39m(\u001b[39mf\u001b[39m\u001b[39m'\u001b[39m\u001b[39m{\u001b[39;00mkor_name\u001b[39m}\u001b[39;00m\u001b[39m의 영어 행성명은 \u001b[39m\u001b[39m{\u001b[39;00msolar_sys[kor_name]\u001b[39m}\u001b[39;00m\u001b[39m 입니다\u001b[39m\u001b[39m'\u001b[39m)\n",
      "\u001b[1;31mKeyError\u001b[0m: '.'"
     ]
    }
   ],
   "source": [
    "solar_sys1 = {'수성':'Mercury', '금성':'Venus', '지구':'Earth', '화성':'Mars', \n",
    "            '목성':'Jupiter',  '토성':'Saturn', '천왕성':'Uranus', '혜왕성':'Neptune'}\n",
    "\n",
    "while True:\n",
    "    kor_name = input('한글 행성명을 입력하세요 > ')\n",
    "    if kor_name == 'q':break\n",
    "    else:\n",
    "        print(f'{kor_name}의 영어 행성명은 {solar_sys[kor_name]} 입니다')"
   ]
  },
  {
   "cell_type": "markdown",
   "metadata": {},
   "source": [
    "## 3번 문제\n",
    "입력한 한글 문자열의 단어의 수를 출력하는 프로그램을 구현하세요. 예) 흐르는 강물을 거꾸로 거슬러 오르는 연어들의 = 6  "
   ]
  },
  {
   "cell_type": "code",
   "execution_count": 12,
   "metadata": {},
   "outputs": [
    {
     "data": {
      "text/plain": [
       "6"
      ]
     },
     "execution_count": 12,
     "metadata": {},
     "output_type": "execute_result"
    }
   ],
   "source": [
    "line = input('문장을 작성하시오')\n",
    "len(line.split(' '))"
   ]
  },
  {
   "cell_type": "code",
   "execution_count": 45,
   "metadata": {},
   "outputs": [
    {
     "name": "stdout",
     "output_type": "stream",
     "text": [
      "입력한 단어의 수는 2개 입니다\n"
     ]
    }
   ],
   "source": [
    "in_str = input('한글 문장을 입력하세요').split(' ')\n",
    "print(f'입력한 단어의 수는 {len(in_str)}개 입니다')"
   ]
  },
  {
   "cell_type": "markdown",
   "metadata": {},
   "source": [
    "## 4번 문제\n",
    "입력한 수를 거꾸로 출력하는 프로그램을 구현하세요. 예) 1 4 5 9 2 --> 2 9 5 4 1  (exam04.py)"
   ]
  },
  {
   "cell_type": "code",
   "execution_count": 32,
   "metadata": {},
   "outputs": [
    {
     "name": "stdout",
     "output_type": "stream",
     "text": [
      " 54 3 2 1\n"
     ]
    }
   ],
   "source": [
    "num = input('')\n",
    "num_list = list(num)\n",
    "num_list.reverse()\n",
    "print(''.join(num_list))\n"
   ]
  },
  {
   "cell_type": "code",
   "execution_count": 53,
   "metadata": {},
   "outputs": [
    {
     "name": "stdout",
     "output_type": "stream",
     "text": [
      "['1', '5', '6', '8', '4'] --> ['4', '8', '6', '5', '1']\n",
      "1 5 6 8 4 -->4 8 6 5 1 "
     ]
    }
   ],
   "source": [
    "in_num = input('거꾸로 출력한 수를 입력하세요').split(' ')\n",
    "numbers = list(in_num)\n",
    "numbers.reverse()\n",
    "print(f'{in_num} --> {numbers}')\n",
    "\n",
    "for i in in_num:\n",
    "    print(i,end=' ')\n",
    "print('-->', end='')\n",
    "\n",
    "for i in numbers:\n",
    "    print(i, end=' ')\n",
    "    "
   ]
  },
  {
   "cell_type": "markdown",
   "metadata": {},
   "source": [
    "## 5번 문제\n",
    "구구단을 수행할 단번호를 입력하면 그 단의 9까지의 결과를 나열하는 프로그램을 입력하세요. 예) 3 --> 3 6 9 12 15 18 21 24 27\n",
    "*"
   ]
  },
  {
   "cell_type": "code",
   "execution_count": 44,
   "metadata": {},
   "outputs": [
    {
     "name": "stdout",
     "output_type": "stream",
     "text": [
      "3 6 9 12 15 18 21 24 27 "
     ]
    }
   ],
   "source": [
    "a = input()\n",
    "j = int(a)\n",
    "for i in range(1,10):\n",
    "    print(i*j, end=\" \")\n"
   ]
  },
  {
   "cell_type": "code",
   "execution_count": 52,
   "metadata": {},
   "outputs": [
    {
     "name": "stdout",
     "output_type": "stream",
     "text": [
      "5 10 15 20 25 30 35 40 45 "
     ]
    }
   ],
   "source": [
    "dan = int(input('구구단을 출력할 단을 입력하세요 > '))\n",
    "\n",
    "for i in range(1,10):\n",
    "    print(dan * i, end=' ')\n"
   ]
  }
 ],
 "metadata": {
  "interpreter": {
   "hash": "26de051ba29f2982a8de78e945f0abaf191376122a1563185a90213a26c5da77"
  },
  "kernelspec": {
   "display_name": "Python 3.10.4 64-bit",
   "language": "python",
   "name": "python3"
  },
  "language_info": {
   "codemirror_mode": {
    "name": "ipython",
    "version": 3
   },
   "file_extension": ".py",
   "mimetype": "text/x-python",
   "name": "python",
   "nbconvert_exporter": "python",
   "pygments_lexer": "ipython3",
   "version": "3.10.4"
  },
  "orig_nbformat": 4
 },
 "nbformat": 4,
 "nbformat_minor": 2
}
