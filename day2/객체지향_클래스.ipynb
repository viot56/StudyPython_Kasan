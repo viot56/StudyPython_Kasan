{
 "cells": [
  {
   "cell_type": "markdown",
   "metadata": {},
   "source": [
    "## 객체지향, 클래스"
   ]
  },
  {
   "cell_type": "markdown",
   "metadata": {},
   "source": [
    "1. 객체지향\n",
    "- 명사(속성-> 속성변수)와 동사(행위 ->함수) 의 조합\n"
   ]
  },
  {
   "cell_type": "code",
   "execution_count": 31,
   "metadata": {},
   "outputs": [],
   "source": [
    "class Person:\n",
    "    name = ''\n",
    "    age = 0\n",
    "\n",
    "    def __init__(self): # 생성자를 만들었는데 안쓰면 자동으로 만들어줌\n",
    "        print('Person 생성!!')\n",
    "\n",
    "    def print_name(self):\n",
    "        print(f'제 이름은 {self.name}입니다.')\n",
    "    def get_age(self):\n",
    "        return self.age"
   ]
  },
  {
   "cell_type": "code",
   "execution_count": 32,
   "metadata": {},
   "outputs": [
    {
     "name": "stdout",
     "output_type": "stream",
     "text": [
      "Person 생성!!\n",
      "<__main__.Person object at 0x0000021C99D608E0>\n",
      "<class '__main__.Person'>\n"
     ]
    }
   ],
   "source": [
    "me = Person() # 클래스의 이름을 똑같이 쓰는 생성자\n",
    "print(me) # 생성자로 만들어진 객체를 담는 것\n",
    "print(type(me))"
   ]
  },
  {
   "cell_type": "code",
   "execution_count": 33,
   "metadata": {},
   "outputs": [
    {
     "name": "stdout",
     "output_type": "stream",
     "text": [
      "홍길동\n",
      "제 이름은 홍길동입니다.\n",
      "홍길동 나이는 990 세\n"
     ]
    }
   ],
   "source": [
    "me.name = '홍길동'\n",
    "print(me.name)\n",
    "me.print_name()\n",
    "me.age = 990\n",
    "hongs_age = me.get_age() # 값을 리턴받아서 처리함\n",
    "print(me.name, '나이는', hongs_age, '세')\n"
   ]
  },
  {
   "cell_type": "code",
   "execution_count": 44,
   "metadata": {},
   "outputs": [],
   "source": [
    "# 생성자 수정 클래스 Person2\n",
    "class Person2:\n",
    "    name = '' # Person2 의 속성변수\n",
    "    age = 0\n",
    "\n",
    "    def __init__(self, name, age): # 생성자를 만들었는데 안쓰면 자동으로 만들어줌, self는 매개변수\n",
    "        print('Person2 생성!!')\n",
    "        self.name = name\n",
    "        self.age = age\n",
    "\n",
    "    def __str__(self): # print를 변경해주는 매직메서드\n",
    "        return f'이름 : {self.name}, 나이 : {self.age}'\n",
    "\n",
    "    def print_name(self):\n",
    "        print(f'제 이름은 {self.name}입니다.')\n",
    "    def print_age(self):\n",
    "         print(f'제 나이는 {self.age}입니다.')"
   ]
  },
  {
   "cell_type": "code",
   "execution_count": 45,
   "metadata": {},
   "outputs": [
    {
     "name": "stdout",
     "output_type": "stream",
     "text": [
      "Person2 생성!!\n",
      "제 이름은 최심형입니다.\n",
      "제 나이는 27입니다.\n",
      "이름 : 최심형, 나이 : 27\n"
     ]
    }
   ],
   "source": [
    "you = Person2('최심형', 27)\n",
    "you.print_name()\n",
    "you.print_age()\n",
    "\n",
    "print(you)"
   ]
  }
 ],
 "metadata": {
  "interpreter": {
   "hash": "26de051ba29f2982a8de78e945f0abaf191376122a1563185a90213a26c5da77"
  },
  "kernelspec": {
   "display_name": "Python 3.10.4 64-bit",
   "language": "python",
   "name": "python3"
  },
  "language_info": {
   "codemirror_mode": {
    "name": "ipython",
    "version": 3
   },
   "file_extension": ".py",
   "mimetype": "text/x-python",
   "name": "python",
   "nbconvert_exporter": "python",
   "pygments_lexer": "ipython3",
   "version": "3.10.4"
  },
  "orig_nbformat": 4
 },
 "nbformat": 4,
 "nbformat_minor": 2
}
