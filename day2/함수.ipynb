{
 "cells": [
  {
   "cell_type": "markdown",
   "metadata": {},
   "source": [
    "## 함수"
   ]
  },
  {
   "cell_type": "markdown",
   "metadata": {},
   "source": [
    "1. 함수정의"
   ]
  },
  {
   "cell_type": "code",
   "execution_count": 30,
   "metadata": {},
   "outputs": [],
   "source": [
    "# 함수의 4종류\n",
    "def add(x, y = 1): # 매개변수 o, return문 o # 함수 호출 리턴함??\n",
    "    result = x + y # result x + y 로 표현 가능\n",
    "    return result # 받아야 쓸 수 있음\n",
    "\n",
    "def print_add(x,y): # 매개변수 o, return문 x\n",
    "    print(x  + y)\n",
    "\n",
    "def print_hello(): # # 매개변수 x, return문 x\n",
    "    print('Hello, world')\n",
    "\n",
    "def ret_hello(): # 매개변수 x, retune o\n",
    "    return 'Hello'"
   ]
  },
  {
   "cell_type": "code",
   "execution_count": 31,
   "metadata": {},
   "outputs": [
    {
     "name": "stdout",
     "output_type": "stream",
     "text": [
      "Hello 2.302585092994046\n",
      "11\n",
      "12\n",
      "Hello, world\n"
     ]
    },
    {
     "data": {
      "text/plain": [
       "'Hello'"
      ]
     },
     "execution_count": 31,
     "metadata": {},
     "output_type": "execute_result"
    }
   ],
   "source": [
    "import math\n",
    "val = ret_hello() # return문이 있으면 val = 가능\n",
    "res = math.log(10)\n",
    "print(val, res)\n",
    "\n",
    "print(add(7,4))\n",
    "\n",
    "print_add(7,5)\n",
    "\n",
    "print_hello()\n",
    "\n",
    "ret_hello()\n"
   ]
  },
  {
   "cell_type": "code",
   "execution_count": 36,
   "metadata": {},
   "outputs": [
    {
     "name": "stdout",
     "output_type": "stream",
     "text": [
      "13\n"
     ]
    }
   ],
   "source": [
    "res = add(y = 6, x= 7)\n",
    "print(res)"
   ]
  },
  {
   "cell_type": "code",
   "execution_count": 38,
   "metadata": {},
   "outputs": [],
   "source": [
    "# 매개변수가 가변일떄\n",
    "def adds(*args):\n",
    "    res = 0\n",
    "\n",
    "    for i in args:\n",
    "        res +=i\n",
    "    \n",
    "    return res"
   ]
  },
  {
   "cell_type": "code",
   "execution_count": 39,
   "metadata": {},
   "outputs": [
    {
     "name": "stdout",
     "output_type": "stream",
     "text": [
      "21\n",
      "55\n"
     ]
    }
   ],
   "source": [
    "print(adds(1,2,3,4,5,6))\n",
    "print(adds(1,2,3,4,5,6,7,8,9,10))"
   ]
  },
  {
   "cell_type": "code",
   "execution_count": 43,
   "metadata": {},
   "outputs": [],
   "source": [
    "def mul_and_add(x,y): \n",
    "    res_mul = x * y\n",
    "    res_add = x + y\n",
    "\n",
    "    return(res_mul, res_add) # tuple 형식으로 리턴"
   ]
  },
  {
   "cell_type": "code",
   "execution_count": 45,
   "metadata": {},
   "outputs": [
    {
     "name": "stdout",
     "output_type": "stream",
     "text": [
      "72\n",
      "17\n"
     ]
    }
   ],
   "source": [
    "(res1, res2) = mul_and_add(8, 9)\n",
    "print(res1)\n",
    "print(res2)"
   ]
  },
  {
   "cell_type": "code",
   "execution_count": 1,
   "metadata": {},
   "outputs": [],
   "source": [
    "def all_calc(*args):\n",
    "    res_mul = 1\n",
    "    res_add = 0\n",
    "    res_div = 1    \n",
    "    res_sub = 0\n",
    "    for i in args:\n",
    "        res_mul *= i\n",
    "        res_add += i\n",
    "        last_num = i\n",
    "    res_div = res_mul / last_num\n",
    "    res_sub = res_add - last_num\n",
    "\n",
    "    return (res_mul, res_add, res_div, res_sub)    "
   ]
  },
  {
   "cell_type": "code",
   "execution_count": 2,
   "metadata": {},
   "outputs": [
    {
     "name": "stdout",
     "output_type": "stream",
     "text": [
      "120\n",
      "15\n",
      "24.0\n",
      "10\n"
     ]
    }
   ],
   "source": [
    "(res1, res2, res3, res4) = all_calc(1,2,3,4,5)\n",
    "print(res1)\n",
    "print(res2)\n",
    "print(res3)\n",
    "print(res4)\n"
   ]
  },
  {
   "cell_type": "markdown",
   "metadata": {},
   "source": [
    "- 매개변수 x, 리턴문 x\n",
    "- 매개변수 x, 리턴문 o\n",
    "- 매개변수 o, 리턴문 x\n",
    "- 매개변수 o, 리턴문 o\n",
    "- 매개변수의 갯수가 가변인 경우\n",
    "- 리턴되는 결과가 1건 이상인 경우"
   ]
  },
  {
   "cell_type": "markdown",
   "metadata": {},
   "source": [
    "2. 함수와 변수의 라이프 스코프"
   ]
  },
  {
   "cell_type": "code",
   "execution_count": 56,
   "metadata": {},
   "outputs": [
    {
     "name": "stdout",
     "output_type": "stream",
     "text": [
      "2\n"
     ]
    }
   ],
   "source": [
    "a = 1 # 전역변수, 변수 \n",
    "def vartest(a): # 지역변수, 매개변수\n",
    "     a += 1\n",
    "     return a # a 는 없어짐\n",
    "    \n",
    "a = vartest(a)\n",
    "print(a)"
   ]
  },
  {
   "cell_type": "code",
   "execution_count": 63,
   "metadata": {},
   "outputs": [
    {
     "name": "stdout",
     "output_type": "stream",
     "text": [
      "5\n"
     ]
    }
   ],
   "source": [
    "b = 1 # 전역변수, 변수 \n",
    "def vartestb(): \n",
    "    global b # 전역변수를 함수 내에서 사용할래!\n",
    "    b += 4\n",
    "\n",
    "\n",
    "vartestb()\n",
    "print(b)"
   ]
  }
 ],
 "metadata": {
  "interpreter": {
   "hash": "26de051ba29f2982a8de78e945f0abaf191376122a1563185a90213a26c5da77"
  },
  "kernelspec": {
   "display_name": "Python 3.10.4 64-bit",
   "language": "python",
   "name": "python3"
  },
  "language_info": {
   "codemirror_mode": {
    "name": "ipython",
    "version": 3
   },
   "file_extension": ".py",
   "mimetype": "text/x-python",
   "name": "python",
   "nbconvert_exporter": "python",
   "pygments_lexer": "ipython3",
   "version": "3.10.4"
  },
  "orig_nbformat": 4
 },
 "nbformat": 4,
 "nbformat_minor": 2
}
