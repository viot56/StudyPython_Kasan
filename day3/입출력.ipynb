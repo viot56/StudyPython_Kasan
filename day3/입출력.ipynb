{
 "cells": [
  {
   "cell_type": "markdown",
   "metadata": {},
   "source": [
    "## 입출력, 파일입출력\n",
    "1. 화면 입출력"
   ]
  },
  {
   "cell_type": "code",
   "execution_count": 55,
   "metadata": {},
   "outputs": [
    {
     "name": "stdout",
     "output_type": "stream",
     "text": [
      "\n"
     ]
    },
    {
     "ename": "ValueError",
     "evalue": "invalid literal for int() with base 10: ''",
     "output_type": "error",
     "traceback": [
      "\u001b[1;31m---------------------------------------------------------------------------\u001b[0m",
      "\u001b[1;31mValueError\u001b[0m                                Traceback (most recent call last)",
      "\u001b[1;32mc:\\Repository\\StudyPython_Kasan\\입출력.ipynb Cell 2'\u001b[0m in \u001b[0;36m<cell line: 6>\u001b[1;34m()\u001b[0m\n\u001b[0;32m      <a href='vscode-notebook-cell:/c%3A/Repository/StudyPython_Kasan/%EC%9E%85%EC%B6%9C%EB%A0%A5.ipynb#ch0000003?line=2'>3</a>\u001b[0m \u001b[39mprint\u001b[39m(a) \u001b[39m# 숫자\u001b[39;00m\n\u001b[0;32m      <a href='vscode-notebook-cell:/c%3A/Repository/StudyPython_Kasan/%EC%9E%85%EC%B6%9C%EB%A0%A5.ipynb#ch0000003?line=3'>4</a>\u001b[0m a \u001b[39m# 문자\u001b[39;00m\n\u001b[1;32m----> <a href='vscode-notebook-cell:/c%3A/Repository/StudyPython_Kasan/%EC%9E%85%EC%B6%9C%EB%A0%A5.ipynb#ch0000003?line=5'>6</a>\u001b[0m a \u001b[39m=\u001b[39m \u001b[39mint\u001b[39;49m(a)\n\u001b[0;32m      <a href='vscode-notebook-cell:/c%3A/Repository/StudyPython_Kasan/%EC%9E%85%EC%B6%9C%EB%A0%A5.ipynb#ch0000003?line=6'>7</a>\u001b[0m a \u001b[39m+\u001b[39m \u001b[39m4\u001b[39m\n",
      "\u001b[1;31mValueError\u001b[0m: invalid literal for int() with base 10: ''"
     ]
    }
   ],
   "source": [
    "# 기본 화면 입출력\n",
    "a = input('원하는 숫자를 입력하세요 : ')\n",
    "print(a) # 숫자\n",
    "a # 문자\n",
    "\n",
    "a = int(a)\n",
    "a + 4"
   ]
  },
  {
   "cell_type": "code",
   "execution_count": null,
   "metadata": {},
   "outputs": [
    {
     "name": "stdout",
     "output_type": "stream",
     "text": [
      "Life is short, You need Python\n",
      "108\n",
      "[1, 2, 3, 4, 5, 6, 7, 8, 9, 10, 11, 12, 13, 14, 15, 16, 17, 18, 19, 20, 21, 22, 23, 24, 25, 26, 27, 28, 29]\n",
      "Life is short\n",
      "Life is short\n",
      "Life is short\n",
      "Life is short\n"
     ]
    }
   ],
   "source": [
    "# 기본 화면 출력\n",
    "b = 'Life is short, You need Python'\n",
    "print(b)\n",
    "b = 108\n",
    "print(b)\n",
    "\n",
    "b = [i for i in range(1,30)]\n",
    "print(b)\n",
    "\n",
    "print('Life', 'is', 'short')\n",
    "print(\"Life\", \"is\", \"short\") # 거의 사용안함\n",
    "\n",
    "print('Life' + ' is' + ' short') # 문자열 결합(concatnate) + 연산자\n",
    "print('Life', 'is', 'short')\n"
   ]
  },
  {
   "cell_type": "code",
   "execution_count": null,
   "metadata": {},
   "outputs": [
    {
     "name": "stdout",
     "output_type": "stream",
     "text": [
      "1 2 3 4 "
     ]
    }
   ],
   "source": [
    "a = [1,2,3,4]\n",
    "\n",
    "for i in a:\n",
    "    print(i, end=' ')"
   ]
  },
  {
   "cell_type": "code",
   "execution_count": null,
   "metadata": {},
   "outputs": [
    {
     "name": "stdout",
     "output_type": "stream",
     "text": [
      "dji\n",
      "ㅇㅇㄴㅁ\n"
     ]
    }
   ],
   "source": [
    "# 다중값 입력\n",
    "(x, y) = input('두 개의 영어 단어를 입력하세요').split()\n",
    "print(x)\n",
    "print(y)"
   ]
  },
  {
   "cell_type": "code",
   "execution_count": null,
   "metadata": {},
   "outputs": [
    {
     "name": "stdout",
     "output_type": "stream",
     "text": [
      "225\n",
      "545\n"
     ]
    }
   ],
   "source": [
    "# 다중값 입력\n",
    "(x, y) = input('두 개의 정수를 입력하세요(구분자 ,)').split(',')\n",
    "print(int(x) * int(y))\n"
   ]
  },
  {
   "cell_type": "code",
   "execution_count": null,
   "metadata": {},
   "outputs": [
    {
     "name": "stdout",
     "output_type": "stream",
     "text": [
      "Hello\n",
      "world\n",
      "\tHi~\n",
      "\"Wow\"\t\\\n"
     ]
    }
   ],
   "source": [
    "# Escape character (탈출문자 = 특수문자)\n",
    "test_str = \"Hello\\nworld\\n\\tHi~!\\b\\n\\\"Wow\\\"\\t\\\\\"\n",
    "print(test_str)"
   ]
  },
  {
   "cell_type": "code",
   "execution_count": null,
   "metadata": {},
   "outputs": [
    {
     "name": "stdout",
     "output_type": "stream",
     "text": [
      "저는 최심형이고    20대입니다.\n",
      "저는 최심형 이고    20대입니다.\n",
      "저는 최심형이고, 20대입니다.\n"
     ]
    }
   ],
   "source": [
    "# 문자열 포맷팅\n",
    "#구시대 방법\n",
    "print('%s는 %s이고 %5d대입니다.'%('저','최심형',20))\n",
    "\n",
    "#신식방법 1\n",
    "print('{0}는 {1} 이고 {2:>5}대입니다.'.format('저','최심형',20))\n",
    "# Python 3.6부터 변경된 방법, 추천방법!\n",
    "print(f'{\"저\"}는 {\"최심형\"}이고, {20}대입니다.')\n"
   ]
  },
  {
   "cell_type": "markdown",
   "metadata": {},
   "source": [
    "2. 파일 입출력"
   ]
  },
  {
   "cell_type": "code",
   "execution_count": null,
   "metadata": {},
   "outputs": [],
   "source": [
    "# 파일 출력 ! 파일은 열면 무조건 닫아야함\n",
    "file = open('sample.txt',mode ='w', encoding='utf-8') #파일 열기\n",
    "#\n",
    "file.write('안녕하세요. 파이썬 학습중입니다\\n')\n",
    "file.write('두번째 줄 시작입니다.\\n')\n",
    "file.write('세번째 문장이에요.\\n')\n",
    "\n",
    "file.close() # 파일 닫기"
   ]
  },
  {
   "cell_type": "code",
   "execution_count": null,
   "metadata": {},
   "outputs": [
    {
     "name": "stdout",
     "output_type": "stream",
     "text": [
      "안녕하세요. 파이썬 학습중입니다\n",
      "두번째 줄 시작입니다.\n",
      "세번쨰 문장이에요.\n",
      "\n"
     ]
    }
   ],
   "source": [
    "# 파일 입력\n",
    "fr = open('sample.txt', mode = 'r', encoding='utf-8')\n",
    "text = fr.read()\n",
    "\n",
    "fr.close()\n",
    "print(text)"
   ]
  },
  {
   "cell_type": "code",
   "execution_count": null,
   "metadata": {},
   "outputs": [
    {
     "name": "stdout",
     "output_type": "stream",
     "text": [
      "안녕하세요. 파이썬 학습중입니다\n",
      "두번째 줄 시작입니다.\n",
      "세번쨰 문장이에요.\n"
     ]
    }
   ],
   "source": [
    "# 파일 읽기 한줄씩 읽어오기 (일반적)\n",
    "fr = open('sample.txt', mode = 'r', encoding='utf-8')\n",
    "while True:\n",
    "    line = fr.readline() # 한줄씩 읽기\n",
    "    if not line: break\n",
    "    print(line, end='')\n",
    "\n",
    "fr.close()"
   ]
  },
  {
   "cell_type": "markdown",
   "metadata": {},
   "source": [
    "3. csv 파일 읽기"
   ]
  },
  {
   "cell_type": "code",
   "execution_count": null,
   "metadata": {},
   "outputs": [],
   "source": [
    "import csv # csv 모듈 추가\n",
    "\n",
    "file_name = 'seoul_bus.csv'\n",
    "dir_name = 'C:/Repository/StudyPython_Kasan/day3/' # 절대경로\n",
    "f = open(f'{dir_name}{file_name}', mode = 'r', encoding='utf=8')\n",
    "\n",
    "reader = csv.reader(f, delimiter= ',') #구분자\n",
    "next(reader) # 제목줄,셀 스킵\n",
    "for line in reader:\n",
    "    print(line)\n",
    "\n",
    "f.close()\n",
    "\n"
   ]
  }
 ],
 "metadata": {
  "interpreter": {
   "hash": "26de051ba29f2982a8de78e945f0abaf191376122a1563185a90213a26c5da77"
  },
  "kernelspec": {
   "display_name": "Python 3.10.4 64-bit",
   "language": "python",
   "name": "python3"
  },
  "language_info": {
   "codemirror_mode": {
    "name": "ipython",
    "version": 3
   },
   "file_extension": ".py",
   "mimetype": "text/x-python",
   "name": "python",
   "nbconvert_exporter": "python",
   "pygments_lexer": "ipython3",
   "version": "3.10.4"
  },
  "orig_nbformat": 4
 },
 "nbformat": 4,
 "nbformat_minor": 2
}
